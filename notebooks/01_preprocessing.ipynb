{
  "nbformat": 4,
  "nbformat_minor": 0,
  "metadata": {
    "colab": {
      "provenance": []
    },
    "kernelspec": {
      "name": "python3",
      "display_name": "Python 3"
    },
    "language_info": {
      "name": "python"
    }
  },
  "cells": [
    {
      "cell_type": "markdown",
      "source": [
        "Markdown - Title and Intro"
      ],
      "metadata": {
        "id": "CV42x9s94f-I"
      }
    },
    {
      "cell_type": "code",
      "source": [
        "# 🫀 ECG Preprocessing (Day 1)\n",
        "\n",
        "This notebook shows the preprocessing pipeline for our arrhythmia detection project.\n",
        "We demonstrate:\n",
        "\n",
        "1. Load raw ECG signal\n",
        "2. Apply **band-pass filter (0.5–40 Hz)**\n",
        "3. Segment into **10-second windows**\n",
        "4. Plot ECG with **R-peak detection**\n",
        "5. Save processed windows for model training\n",
        "\n",
        "This ensures our models are trained on **clean, consistent ECG segments**.\n"
      ],
      "metadata": {
        "id": "QEcglKkH4cTF"
      },
      "execution_count": null,
      "outputs": []
    },
    {
      "cell_type": "markdown",
      "source": [
        "Python Imports"
      ],
      "metadata": {
        "id": "eM7p3E-o4PE3"
      }
    },
    {
      "cell_type": "code",
      "source": [
        "import numpy as np\n",
        "import pandas as pd\n",
        "import matplotlib.pyplot as plt\n",
        "from scipy.signal import butter, filtfilt, find_peaks\n",
        "from scripts.make_windows import bandpass_filter, make_windows\n"
      ],
      "metadata": {
        "id": "WAQsGt_e5QJp"
      },
      "execution_count": null,
      "outputs": []
    },
    {
      "cell_type": "markdown",
      "source": [
        "## 1. Load ECG Signal\n",
        "\n",
        "We start with a raw ECG file (`test_ecg.csv`) which contains a column named `ecg`.  \n",
        "This simulates the MIT-BIH arrhythmia dataset format.\n"
      ],
      "metadata": {
        "id": "lHUNsu3Z5StE"
      }
    },
    {
      "cell_type": "code",
      "source": [
        "df = pd.read_csv(\"../test_data/test_ecg.csv\")  # adjust if needed\n",
        "signal = df[\"ecg\"].values\n",
        "fs = 360  # MIT-BIH default sampling rate\n",
        "\n",
        "plt.figure(figsize=(12, 4))\n",
        "plt.plot(signal[:2000])\n",
        "plt.title(\"Raw ECG (first 2000 samples)\")\n",
        "plt.xlabel(\"Samples\")\n",
        "plt.ylabel(\"Amplitude\")\n",
        "plt.show()\n"
      ],
      "metadata": {
        "id": "UB3DbLwa5hgg"
      },
      "execution_count": null,
      "outputs": []
    },
    {
      "cell_type": "markdown",
      "source": [
        "## 2. Band-Pass Filtering (0.5–40 Hz)\n",
        "\n",
        "To remove baseline wander (low-frequency drift) and high-frequency noise,  \n",
        "we apply a **Butterworth band-pass filter** between 0.5–40 Hz.\n"
      ],
      "metadata": {
        "id": "6djCSzrf5szC"
      }
    },
    {
      "cell_type": "code",
      "source": [
        "filt_signal = bandpass_filter(signal, fs=fs, lowcut=0.5, highcut=40)\n",
        "\n",
        "plt.figure(figsize=(12, 4))\n",
        "plt.plot(filt_signal[:2000])\n",
        "plt.title(\"Filtered ECG (0.5–40 Hz)\")\n",
        "plt.xlabel(\"Samples\")\n",
        "plt.ylabel(\"Amplitude\")\n",
        "plt.show()\n"
      ],
      "metadata": {
        "id": "ziH3980w5q1U"
      },
      "execution_count": null,
      "outputs": []
    },
    {
      "cell_type": "markdown",
      "source": [
        "## 3. Window Segmentation\n",
        "\n",
        "We segment the ECG into **10-second windows** with a **5-second step size**  \n",
        "to prepare consistent inputs for model training.\n"
      ],
      "metadata": {
        "id": "AHpXQHHN50Ho"
      }
    },
    {
      "cell_type": "code",
      "source": [
        "windows = make_windows(filt_signal, fs=fs, win_sec=10, step_sec=5)\n",
        "print(\"Shape of windows:\", windows.shape)\n",
        "\n",
        "plt.figure(figsize=(12, 4))\n",
        "plt.plot(windows[0])\n",
        "plt.title(\"Example 10-second window\")\n",
        "plt.show()\n"
      ],
      "metadata": {
        "id": "0H93ms4m51Io"
      },
      "execution_count": null,
      "outputs": []
    },
    {
      "cell_type": "markdown",
      "source": [
        "## 4. R-Peak Detection (demo)\n",
        "\n",
        "We use `scipy.signal.find_peaks` to detect R-peaks.  \n",
        "This helps derive features like **RR intervals** and **HRV** (heart rate variability).\n"
      ],
      "metadata": {
        "id": "T0mBLfVh53xq"
      }
    },
    {
      "cell_type": "code",
      "source": [
        "example = windows[0]\n",
        "peaks, _ = find_peaks(example, distance=fs*0.6)  # ~60 BPM min spacing\n",
        "\n",
        "plt.figure(figsize=(12, 4))\n",
        "plt.plot(example, label=\"ECG\")\n",
        "plt.plot(peaks, example[peaks], \"rx\", label=\"R-peaks\")\n",
        "plt.legend()\n",
        "plt.title(\"R-peak detection (demo)\")\n",
        "plt.show()\n"
      ],
      "metadata": {
        "id": "5Nnut3hC59xG"
      },
      "execution_count": null,
      "outputs": []
    },
    {
      "cell_type": "markdown",
      "source": [
        "## 5. Save Processed Windows\n",
        "\n",
        "We export the segmented, filtered windows as a CSV  \n",
        "so they can be used for training and evaluation.\n"
      ],
      "metadata": {
        "id": "htbVYMvg6DVe"
      }
    },
    {
      "cell_type": "code",
      "source": [
        "out_df = pd.DataFrame(windows)\n",
        "out_df.to_csv(\"../data/processed/windows.csv\", index=False)\n",
        "print(\"✅ Processed windows saved to ../data/processed/windows.csv\")\n"
      ],
      "metadata": {
        "id": "PqDCkY5u6EEK"
      },
      "execution_count": null,
      "outputs": []
    }
  ]
}